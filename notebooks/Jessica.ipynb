{
 "cells": [
  {
   "cell_type": "markdown",
   "metadata": {},
   "source": [
    "*ETL*"
   ]
  },
  {
   "cell_type": "markdown",
   "metadata": {},
   "source": [
    "Cargar todas las librerías a utilizar:"
   ]
  },
  {
   "cell_type": "code",
   "execution_count": 1,
   "metadata": {},
   "outputs": [
    {
     "ename": "ModuleNotFoundError",
     "evalue": "No module named 'numpy'",
     "output_type": "error",
     "traceback": [
      "\u001b[1;31m---------------------------------------------------------------------------\u001b[0m",
      "\u001b[1;31mModuleNotFoundError\u001b[0m                       Traceback (most recent call last)",
      "\u001b[1;32mc:\\Users\\jessi\\Desktop\\PI Henry\\notebooks\\Jessica.ipynb Cell 3\u001b[0m line \u001b[0;36m1\n\u001b[1;32m----> <a href='vscode-notebook-cell:/c%3A/Users/jessi/Desktop/PI%20Henry/notebooks/Jessica.ipynb#W2sZmlsZQ%3D%3D?line=0'>1</a>\u001b[0m \u001b[39mimport\u001b[39;00m \u001b[39mnumpy\u001b[39;00m \u001b[39mas\u001b[39;00m \u001b[39mnp\u001b[39;00m\n\u001b[0;32m      <a href='vscode-notebook-cell:/c%3A/Users/jessi/Desktop/PI%20Henry/notebooks/Jessica.ipynb#W2sZmlsZQ%3D%3D?line=1'>2</a>\u001b[0m \u001b[39mimport\u001b[39;00m \u001b[39mpandas\u001b[39;00m \u001b[39mas\u001b[39;00m \u001b[39mpd\u001b[39;00m\n\u001b[0;32m      <a href='vscode-notebook-cell:/c%3A/Users/jessi/Desktop/PI%20Henry/notebooks/Jessica.ipynb#W2sZmlsZQ%3D%3D?line=2'>3</a>\u001b[0m \u001b[39mimport\u001b[39;00m \u001b[39mseaborn\u001b[39;00m \u001b[39mas\u001b[39;00m \u001b[39msns\u001b[39;00m\n",
      "\u001b[1;31mModuleNotFoundError\u001b[0m: No module named 'numpy'"
     ]
    }
   ],
   "source": [
    "import numpy as np\n",
    "import pandas as pd\n",
    "import seaborn as sns\n",
    "import matplotlib.pyplot as plt\n",
    "import pandas as pd\n",
    "import json\n",
    "import ast\n",
    "import pyarrow\n",
    "import uvicorn\n",
    "import os"
   ]
  },
  {
   "cell_type": "markdown",
   "metadata": {},
   "source": [
    "Importar el CSV a Visual Code a través de Python de manera adecuada para que funcione en distintos entornos"
   ]
  },
  {
   "cell_type": "code",
   "execution_count": 3,
   "metadata": {},
   "outputs": [
    {
     "ename": "NameError",
     "evalue": "name 'pd' is not defined",
     "output_type": "error",
     "traceback": [
      "\u001b[1;31m---------------------------------------------------------------------------\u001b[0m",
      "\u001b[1;31mNameError\u001b[0m                                 Traceback (most recent call last)",
      "\u001b[1;32mc:\\Users\\jessi\\Desktop\\PI Henry\\notebooks\\Jessica.ipynb Cell 5\u001b[0m line \u001b[0;36m1\n\u001b[1;32m----> <a href='vscode-notebook-cell:/c%3A/Users/jessi/Desktop/PI%20Henry/notebooks/Jessica.ipynb#W4sZmlsZQ%3D%3D?line=0'>1</a>\u001b[0m df \u001b[39m=\u001b[39m pd\u001b[39m.\u001b[39mread_csv(\u001b[39m\"\u001b[39m\u001b[39m../Datasets/movies_FINAL.csv\u001b[39m\u001b[39m\"\u001b[39m)\n\u001b[0;32m      <a href='vscode-notebook-cell:/c%3A/Users/jessi/Desktop/PI%20Henry/notebooks/Jessica.ipynb#W4sZmlsZQ%3D%3D?line=1'>2</a>\u001b[0m df\u001b[39m.\u001b[39mhead()\n",
      "\u001b[1;31mNameError\u001b[0m: name 'pd' is not defined"
     ]
    }
   ],
   "source": [
    "file_path = os.path.join(os.path.dirname(__file__), '..', 'Datasets', 'movies_FINAL.csv')\n",
    "df = pd.read_csv(file_path)\n",
    "df.head()"
   ]
  },
  {
   "cell_type": "markdown",
   "metadata": {},
   "source": [
    "Revisar el tipo de dato en cada columna del DataFrame para seleccionar cuáles son relevantes para el proyecto"
   ]
  },
  {
   "cell_type": "code",
   "execution_count": null,
   "metadata": {},
   "outputs": [
    {
     "name": "stdout",
     "output_type": "stream",
     "text": [
      "<class 'pandas.core.frame.DataFrame'>\n",
      "RangeIndex: 45463 entries, 0 to 45462\n",
      "Data columns (total 24 columns):\n",
      " #   Column                 Non-Null Count  Dtype  \n",
      "---  ------                 --------------  -----  \n",
      " 0   adult                  45463 non-null  bool   \n",
      " 1   belongs_to_collection  4491 non-null   object \n",
      " 2   budget                 45463 non-null  int64  \n",
      " 3   genres                 45463 non-null  object \n",
      " 4   homepage               7779 non-null   object \n",
      " 5   id                     45463 non-null  int64  \n",
      " 6   imdb_id                45446 non-null  object \n",
      " 7   original_language      45452 non-null  object \n",
      " 8   original_title         45463 non-null  object \n",
      " 9   overview               44509 non-null  object \n",
      " 10  popularity             45463 non-null  float64\n",
      " 11  poster_path            45080 non-null  object \n",
      " 12  production_companies   45463 non-null  object \n",
      " 13  production_countries   45463 non-null  object \n",
      " 14  release_date           45379 non-null  object \n",
      " 15  revenue                45463 non-null  int64  \n",
      " 16  runtime                45206 non-null  float64\n",
      " 17  spoken_languages       45463 non-null  object \n",
      " 18  status                 45382 non-null  object \n",
      " 19  tagline                20413 non-null  object \n",
      " 20  title                  45463 non-null  object \n",
      " 21  video                  45463 non-null  bool   \n",
      " 22  vote_average           45463 non-null  float64\n",
      " 23  vote_count             45463 non-null  int64  \n",
      "dtypes: bool(2), float64(3), int64(4), object(15)\n",
      "memory usage: 7.7+ MB\n"
     ]
    }
   ],
   "source": [
    "df.info()"
   ]
  },
  {
   "cell_type": "markdown",
   "metadata": {},
   "source": [
    "Se pasa a int la columna budget y la columna ID que servirán para las futuras funciones."
   ]
  },
  {
   "cell_type": "code",
   "execution_count": null,
   "metadata": {},
   "outputs": [],
   "source": [
    "# Reemplazar el valor '1997-08-20' con 0\n",
    "df['budget'] = df['budget'].replace(pd.Timestamp('1997-08-20'), 0)\n",
    "\n",
    "# Convertir la columna 'budget' a tipo int\n",
    "df['budget'] = df['budget'].astype(int, errors='ignore')\n",
    "\n",
    "\n"
   ]
  },
  {
   "cell_type": "code",
   "execution_count": null,
   "metadata": {},
   "outputs": [],
   "source": [
    "# Reemplazar el valor '1997-08-20' con 0\n",
    "df['id'] = df['id'].replace(pd.Timestamp('1997-08-20'), 0)\n",
    "\n",
    "# Reemplazar NaT con 0\n",
    "df['id'] = df['id'].fillna(0)\n",
    "\n",
    "\n",
    "# Convertir la columna 'id' a tipo int\n",
    "df['id'] = df['id'].astype(int, errors='ignore')"
   ]
  },
  {
   "cell_type": "markdown",
   "metadata": {},
   "source": [
    "Identificar las variables que tienen datos anidados para darles el correcto tratamiento:\n",
    "- belongs_to_collection\n",
    "- genres\n",
    "- production_companies\n",
    "- production_coutries\n",
    "- spoken_languages\n"
   ]
  },
  {
   "cell_type": "code",
   "execution_count": null,
   "metadata": {},
   "outputs": [],
   "source": [
    "def extract_full_collection_info(row):\n",
    "    if pd.isna(row['belongs_to_collection']):\n",
    "        return pd.Series([None, None, None, None], \n",
    "                         index=['collection_id', 'collection_name', 'collection_poster_path', 'collection_backdrop_path'])\n",
    "    else:\n",
    "        try:\n",
    "            collection = json.loads(row['belongs_to_collection'].replace(\"'\", \"\\\"\"))\n",
    "            return pd.Series([collection.get('id'), collection.get('name'), collection.get('poster_path'), collection.get('backdrop_path')], \n",
    "                             index=['collection_id', 'collection_name', 'collection_poster_path', 'collection_backdrop_path'])\n",
    "        except:\n",
    "            return pd.Series([None, None, None, None], \n",
    "                             index=['collection_id', 'collection_name', 'collection_poster_path', 'collection_backdrop_path'])\n",
    "\n",
    "# Aplicar la función a cada fila del DataFrame\n",
    "full_collection_info = df.apply(extract_full_collection_info, axis=1)\n",
    "\n",
    "# Añadir las nuevas columnas al DataFrame original\n",
    "aux = pd.concat([df, full_collection_info],axis=1)"
   ]
  },
  {
   "cell_type": "code",
   "execution_count": null,
   "metadata": {},
   "outputs": [],
   "source": [
    "\n",
    "def genres_ids(companies):\n",
    "    try:\n",
    "        companies_list = ast.literal_eval(companies)\n",
    "        return [company['id'] for company in companies_list]\n",
    "    except (ValueError, SyntaxError, TypeError):\n",
    "        return []\n",
    "\n",
    "def genres_names(companies):\n",
    "    try:\n",
    "        companies_list = ast.literal_eval(companies)\n",
    "        return [company['name'] for company in companies_list]\n",
    "    except (ValueError, SyntaxError, TypeError):\n",
    "        return []\n",
    "\n",
    "df['genres_ids'] = df['genres'].apply(genres_ids)\n",
    "df['genres_names'] = df['genres'].apply(genres_names)\n",
    "\n",
    "df['genres_names_array'] = df['genres_names'].apply(lambda x: x if isinstance(x,list)else[])\n",
    "aux5 = df[['genres_names_array']]                                                                              \n"
   ]
  },
  {
   "cell_type": "code",
   "execution_count": null,
   "metadata": {},
   "outputs": [
    {
     "data": {
      "text/html": [
       "<div>\n",
       "<style scoped>\n",
       "    .dataframe tbody tr th:only-of-type {\n",
       "        vertical-align: middle;\n",
       "    }\n",
       "\n",
       "    .dataframe tbody tr th {\n",
       "        vertical-align: top;\n",
       "    }\n",
       "\n",
       "    .dataframe thead th {\n",
       "        text-align: right;\n",
       "    }\n",
       "</style>\n",
       "<table border=\"1\" class=\"dataframe\">\n",
       "  <thead>\n",
       "    <tr style=\"text-align: right;\">\n",
       "      <th></th>\n",
       "      <th>genres_names_array</th>\n",
       "    </tr>\n",
       "  </thead>\n",
       "  <tbody>\n",
       "    <tr>\n",
       "      <th>0</th>\n",
       "      <td>[Animation, Comedy, Family]</td>\n",
       "    </tr>\n",
       "    <tr>\n",
       "      <th>1</th>\n",
       "      <td>[Adventure, Fantasy, Family]</td>\n",
       "    </tr>\n",
       "    <tr>\n",
       "      <th>2</th>\n",
       "      <td>[Romance, Comedy]</td>\n",
       "    </tr>\n",
       "    <tr>\n",
       "      <th>3</th>\n",
       "      <td>[Comedy, Drama, Romance]</td>\n",
       "    </tr>\n",
       "    <tr>\n",
       "      <th>4</th>\n",
       "      <td>[Comedy]</td>\n",
       "    </tr>\n",
       "    <tr>\n",
       "      <th>...</th>\n",
       "      <td>...</td>\n",
       "    </tr>\n",
       "    <tr>\n",
       "      <th>45458</th>\n",
       "      <td>[Drama, Family]</td>\n",
       "    </tr>\n",
       "    <tr>\n",
       "      <th>45459</th>\n",
       "      <td>[Drama]</td>\n",
       "    </tr>\n",
       "    <tr>\n",
       "      <th>45460</th>\n",
       "      <td>[Action, Drama, Thriller]</td>\n",
       "    </tr>\n",
       "    <tr>\n",
       "      <th>45461</th>\n",
       "      <td>[]</td>\n",
       "    </tr>\n",
       "    <tr>\n",
       "      <th>45462</th>\n",
       "      <td>[]</td>\n",
       "    </tr>\n",
       "  </tbody>\n",
       "</table>\n",
       "<p>45463 rows × 1 columns</p>\n",
       "</div>"
      ],
      "text/plain": [
       "                 genres_names_array\n",
       "0       [Animation, Comedy, Family]\n",
       "1      [Adventure, Fantasy, Family]\n",
       "2                 [Romance, Comedy]\n",
       "3          [Comedy, Drama, Romance]\n",
       "4                          [Comedy]\n",
       "...                             ...\n",
       "45458               [Drama, Family]\n",
       "45459                       [Drama]\n",
       "45460     [Action, Drama, Thriller]\n",
       "45461                            []\n",
       "45462                            []\n",
       "\n",
       "[45463 rows x 1 columns]"
      ]
     },
     "execution_count": 9,
     "metadata": {},
     "output_type": "execute_result"
    }
   ],
   "source": [
    "aux5"
   ]
  },
  {
   "cell_type": "code",
   "execution_count": null,
   "metadata": {},
   "outputs": [],
   "source": [
    "\n",
    "def extract_production_company_ids(companies):\n",
    "    try:\n",
    "        companies_list = ast.literal_eval(companies)\n",
    "        return [company['id'] for company in companies_list]\n",
    "    except (ValueError, SyntaxError, TypeError):\n",
    "        return []\n",
    "\n",
    "def extract_production_company_names(companies):\n",
    "    try:\n",
    "        companies_list = ast.literal_eval(companies)\n",
    "        return [company['name'] for company in companies_list]\n",
    "    except (ValueError, SyntaxError, TypeError):\n",
    "        return []\n",
    "\n",
    "df['production_company_ids'] = df['production_companies'].apply(extract_production_company_ids)\n",
    "df['production_company_names'] = df['production_companies'].apply(extract_production_company_names)\n",
    "\n",
    "df['company_names_array'] = df['production_company_names'].apply(lambda x: x if isinstance(x,list)else[])\n",
    "aux2 = df[['company_names_array']]                                                                              \n",
    "\n",
    "\n"
   ]
  },
  {
   "cell_type": "code",
   "execution_count": null,
   "metadata": {},
   "outputs": [
    {
     "data": {
      "text/html": [
       "<div>\n",
       "<style scoped>\n",
       "    .dataframe tbody tr th:only-of-type {\n",
       "        vertical-align: middle;\n",
       "    }\n",
       "\n",
       "    .dataframe tbody tr th {\n",
       "        vertical-align: top;\n",
       "    }\n",
       "\n",
       "    .dataframe thead th {\n",
       "        text-align: right;\n",
       "    }\n",
       "</style>\n",
       "<table border=\"1\" class=\"dataframe\">\n",
       "  <thead>\n",
       "    <tr style=\"text-align: right;\">\n",
       "      <th></th>\n",
       "      <th>company_names_array</th>\n",
       "    </tr>\n",
       "  </thead>\n",
       "  <tbody>\n",
       "    <tr>\n",
       "      <th>0</th>\n",
       "      <td>[Pixar Animation Studios]</td>\n",
       "    </tr>\n",
       "    <tr>\n",
       "      <th>1</th>\n",
       "      <td>[TriStar Pictures, Teitler Film, Interscope Co...</td>\n",
       "    </tr>\n",
       "    <tr>\n",
       "      <th>2</th>\n",
       "      <td>[Warner Bros., Lancaster Gate]</td>\n",
       "    </tr>\n",
       "    <tr>\n",
       "      <th>3</th>\n",
       "      <td>[Twentieth Century Fox Film Corporation]</td>\n",
       "    </tr>\n",
       "    <tr>\n",
       "      <th>4</th>\n",
       "      <td>[Sandollar Productions, Touchstone Pictures]</td>\n",
       "    </tr>\n",
       "    <tr>\n",
       "      <th>...</th>\n",
       "      <td>...</td>\n",
       "    </tr>\n",
       "    <tr>\n",
       "      <th>45458</th>\n",
       "      <td>[]</td>\n",
       "    </tr>\n",
       "    <tr>\n",
       "      <th>45459</th>\n",
       "      <td>[Sine Olivia]</td>\n",
       "    </tr>\n",
       "    <tr>\n",
       "      <th>45460</th>\n",
       "      <td>[American World Pictures]</td>\n",
       "    </tr>\n",
       "    <tr>\n",
       "      <th>45461</th>\n",
       "      <td>[Yermoliev]</td>\n",
       "    </tr>\n",
       "    <tr>\n",
       "      <th>45462</th>\n",
       "      <td>[]</td>\n",
       "    </tr>\n",
       "  </tbody>\n",
       "</table>\n",
       "<p>45463 rows × 1 columns</p>\n",
       "</div>"
      ],
      "text/plain": [
       "                                     company_names_array\n",
       "0                              [Pixar Animation Studios]\n",
       "1      [TriStar Pictures, Teitler Film, Interscope Co...\n",
       "2                         [Warner Bros., Lancaster Gate]\n",
       "3               [Twentieth Century Fox Film Corporation]\n",
       "4           [Sandollar Productions, Touchstone Pictures]\n",
       "...                                                  ...\n",
       "45458                                                 []\n",
       "45459                                      [Sine Olivia]\n",
       "45460                          [American World Pictures]\n",
       "45461                                        [Yermoliev]\n",
       "45462                                                 []\n",
       "\n",
       "[45463 rows x 1 columns]"
      ]
     },
     "execution_count": 11,
     "metadata": {},
     "output_type": "execute_result"
    }
   ],
   "source": [
    "aux2"
   ]
  },
  {
   "cell_type": "code",
   "execution_count": null,
   "metadata": {},
   "outputs": [],
   "source": [
    "\n",
    "def extract_production_company_iso(companies):\n",
    "    try:\n",
    "        companies_list = ast.literal_eval(companies)\n",
    "        return [company['iso_3166_1'] for company in companies_list]\n",
    "    except (ValueError, SyntaxError, TypeError):\n",
    "        return []\n",
    "\n",
    "def extract_production_company_paises(companies):\n",
    "    try:\n",
    "        companies_list = ast.literal_eval(companies)\n",
    "        return [company['name'] for company in companies_list]\n",
    "    except (ValueError, SyntaxError, TypeError):\n",
    "        return []\n",
    "\n",
    "df['production_countries_iso'] = df['production_countries'].apply(extract_production_company_iso)\n",
    "df['production_countries_names'] = df['production_countries'].apply(extract_production_company_paises)\n",
    "\n",
    "df['countries_names_array'] = df['production_countries_names'].apply(lambda x: x if isinstance(x,list)else[])\n",
    "aux3 = df[['countries_names_array']]    \n",
    "\n"
   ]
  },
  {
   "cell_type": "code",
   "execution_count": null,
   "metadata": {},
   "outputs": [
    {
     "data": {
      "text/html": [
       "<div>\n",
       "<style scoped>\n",
       "    .dataframe tbody tr th:only-of-type {\n",
       "        vertical-align: middle;\n",
       "    }\n",
       "\n",
       "    .dataframe tbody tr th {\n",
       "        vertical-align: top;\n",
       "    }\n",
       "\n",
       "    .dataframe thead th {\n",
       "        text-align: right;\n",
       "    }\n",
       "</style>\n",
       "<table border=\"1\" class=\"dataframe\">\n",
       "  <thead>\n",
       "    <tr style=\"text-align: right;\">\n",
       "      <th></th>\n",
       "      <th>countries_names_array</th>\n",
       "    </tr>\n",
       "  </thead>\n",
       "  <tbody>\n",
       "    <tr>\n",
       "      <th>0</th>\n",
       "      <td>[United States of America]</td>\n",
       "    </tr>\n",
       "    <tr>\n",
       "      <th>1</th>\n",
       "      <td>[United States of America]</td>\n",
       "    </tr>\n",
       "    <tr>\n",
       "      <th>2</th>\n",
       "      <td>[United States of America]</td>\n",
       "    </tr>\n",
       "    <tr>\n",
       "      <th>3</th>\n",
       "      <td>[United States of America]</td>\n",
       "    </tr>\n",
       "    <tr>\n",
       "      <th>4</th>\n",
       "      <td>[United States of America]</td>\n",
       "    </tr>\n",
       "    <tr>\n",
       "      <th>...</th>\n",
       "      <td>...</td>\n",
       "    </tr>\n",
       "    <tr>\n",
       "      <th>45458</th>\n",
       "      <td>[Iran]</td>\n",
       "    </tr>\n",
       "    <tr>\n",
       "      <th>45459</th>\n",
       "      <td>[Philippines]</td>\n",
       "    </tr>\n",
       "    <tr>\n",
       "      <th>45460</th>\n",
       "      <td>[United States of America]</td>\n",
       "    </tr>\n",
       "    <tr>\n",
       "      <th>45461</th>\n",
       "      <td>[Russia]</td>\n",
       "    </tr>\n",
       "    <tr>\n",
       "      <th>45462</th>\n",
       "      <td>[United Kingdom]</td>\n",
       "    </tr>\n",
       "  </tbody>\n",
       "</table>\n",
       "<p>45463 rows × 1 columns</p>\n",
       "</div>"
      ],
      "text/plain": [
       "            countries_names_array\n",
       "0      [United States of America]\n",
       "1      [United States of America]\n",
       "2      [United States of America]\n",
       "3      [United States of America]\n",
       "4      [United States of America]\n",
       "...                           ...\n",
       "45458                      [Iran]\n",
       "45459               [Philippines]\n",
       "45460  [United States of America]\n",
       "45461                    [Russia]\n",
       "45462            [United Kingdom]\n",
       "\n",
       "[45463 rows x 1 columns]"
      ]
     },
     "execution_count": 13,
     "metadata": {},
     "output_type": "execute_result"
    }
   ],
   "source": [
    "aux3"
   ]
  },
  {
   "cell_type": "code",
   "execution_count": null,
   "metadata": {},
   "outputs": [],
   "source": [
    "def extract_iso_languages(languages):\n",
    "    try:\n",
    "        languages_list = ast.literal_eval(languages)\n",
    "        return [lang['iso_639_1'] for lang in languages_list]\n",
    "    except (ValueError, SyntaxError, TypeError):\n",
    "        return []\n",
    "\n",
    "def extract_language_names(languages):\n",
    "    try:\n",
    "        languages_list = ast.literal_eval(languages)\n",
    "        return [lang['name'] for lang in languages_list]\n",
    "    except (ValueError, SyntaxError, TypeError):\n",
    "        return []\n",
    "\n",
    "\n",
    "# Aplicar las funciones a la columna 'spoken_languages'\n",
    "df['spoken_languages_iso'] = df['spoken_languages'].apply(extract_iso_languages)\n",
    "df['spoken_languages_name'] = df['spoken_languages'].apply(extract_language_names)\n",
    "\n",
    "df['languages_names_array'] = df['spoken_languages_name'].apply(lambda x: x if isinstance(x,list)else[])\n",
    "aux4 = df[['languages_names_array']]  "
   ]
  },
  {
   "cell_type": "code",
   "execution_count": null,
   "metadata": {},
   "outputs": [
    {
     "data": {
      "text/html": [
       "<div>\n",
       "<style scoped>\n",
       "    .dataframe tbody tr th:only-of-type {\n",
       "        vertical-align: middle;\n",
       "    }\n",
       "\n",
       "    .dataframe tbody tr th {\n",
       "        vertical-align: top;\n",
       "    }\n",
       "\n",
       "    .dataframe thead th {\n",
       "        text-align: right;\n",
       "    }\n",
       "</style>\n",
       "<table border=\"1\" class=\"dataframe\">\n",
       "  <thead>\n",
       "    <tr style=\"text-align: right;\">\n",
       "      <th></th>\n",
       "      <th>languages_names_array</th>\n",
       "    </tr>\n",
       "  </thead>\n",
       "  <tbody>\n",
       "    <tr>\n",
       "      <th>0</th>\n",
       "      <td>[English]</td>\n",
       "    </tr>\n",
       "    <tr>\n",
       "      <th>1</th>\n",
       "      <td>[English, Français]</td>\n",
       "    </tr>\n",
       "    <tr>\n",
       "      <th>2</th>\n",
       "      <td>[English]</td>\n",
       "    </tr>\n",
       "    <tr>\n",
       "      <th>3</th>\n",
       "      <td>[English]</td>\n",
       "    </tr>\n",
       "    <tr>\n",
       "      <th>4</th>\n",
       "      <td>[English]</td>\n",
       "    </tr>\n",
       "    <tr>\n",
       "      <th>...</th>\n",
       "      <td>...</td>\n",
       "    </tr>\n",
       "    <tr>\n",
       "      <th>45458</th>\n",
       "      <td>[فارسی]</td>\n",
       "    </tr>\n",
       "    <tr>\n",
       "      <th>45459</th>\n",
       "      <td>[]</td>\n",
       "    </tr>\n",
       "    <tr>\n",
       "      <th>45460</th>\n",
       "      <td>[English]</td>\n",
       "    </tr>\n",
       "    <tr>\n",
       "      <th>45461</th>\n",
       "      <td>[]</td>\n",
       "    </tr>\n",
       "    <tr>\n",
       "      <th>45462</th>\n",
       "      <td>[English]</td>\n",
       "    </tr>\n",
       "  </tbody>\n",
       "</table>\n",
       "<p>45463 rows × 1 columns</p>\n",
       "</div>"
      ],
      "text/plain": [
       "      languages_names_array\n",
       "0                 [English]\n",
       "1       [English, Français]\n",
       "2                 [English]\n",
       "3                 [English]\n",
       "4                 [English]\n",
       "...                     ...\n",
       "45458               [فارسی]\n",
       "45459                    []\n",
       "45460             [English]\n",
       "45461                    []\n",
       "45462             [English]\n",
       "\n",
       "[45463 rows x 1 columns]"
      ]
     },
     "execution_count": 15,
     "metadata": {},
     "output_type": "execute_result"
    }
   ],
   "source": [
    "aux4"
   ]
  },
  {
   "cell_type": "code",
   "execution_count": null,
   "metadata": {},
   "outputs": [],
   "source": []
  },
  {
   "cell_type": "markdown",
   "metadata": {},
   "source": [
    "Uno los Dataframe nuevos al original"
   ]
  },
  {
   "cell_type": "code",
   "execution_count": null,
   "metadata": {},
   "outputs": [],
   "source": [
    "df_final = pd.concat([aux, aux2, aux3, aux4, aux5],axis=1)\n"
   ]
  },
  {
   "cell_type": "code",
   "execution_count": null,
   "metadata": {},
   "outputs": [
    {
     "data": {
      "text/plain": [
       "(45463, 32)"
      ]
     },
     "execution_count": 17,
     "metadata": {},
     "output_type": "execute_result"
    }
   ],
   "source": [
    "df_final.shape"
   ]
  },
  {
   "cell_type": "markdown",
   "metadata": {},
   "source": [
    "Se eliminan todas las columnas que no presentan utilidad para el posterior proceso de recomendación."
   ]
  },
  {
   "cell_type": "code",
   "execution_count": null,
   "metadata": {},
   "outputs": [],
   "source": [
    "df_final=df_final.drop(columns=[\"belongs_to_collection\",\"production_companies\",\"production_countries\",\"spoken_languages\",\"genres\",\"poster_path\",\"tagline\",\"collection_id\",\"collection_poster_path\"])"
   ]
  },
  {
   "cell_type": "code",
   "execution_count": null,
   "metadata": {},
   "outputs": [
    {
     "name": "stdout",
     "output_type": "stream",
     "text": [
      "<class 'pandas.core.frame.DataFrame'>\n",
      "RangeIndex: 45463 entries, 0 to 45462\n",
      "Data columns (total 23 columns):\n",
      " #   Column                    Non-Null Count  Dtype  \n",
      "---  ------                    --------------  -----  \n",
      " 0   adult                     45463 non-null  bool   \n",
      " 1   budget                    45463 non-null  int32  \n",
      " 2   homepage                  7779 non-null   object \n",
      " 3   id                        45463 non-null  int32  \n",
      " 4   imdb_id                   45446 non-null  object \n",
      " 5   original_language         45452 non-null  object \n",
      " 6   original_title            45463 non-null  object \n",
      " 7   overview                  44509 non-null  object \n",
      " 8   popularity                45463 non-null  float64\n",
      " 9   release_date              45379 non-null  object \n",
      " 10  revenue                   45463 non-null  int64  \n",
      " 11  runtime                   45206 non-null  float64\n",
      " 12  status                    45382 non-null  object \n",
      " 13  title                     45463 non-null  object \n",
      " 14  video                     45463 non-null  bool   \n",
      " 15  vote_average              45463 non-null  float64\n",
      " 16  vote_count                45463 non-null  int64  \n",
      " 17  collection_name           3168 non-null   object \n",
      " 18  collection_backdrop_path  3168 non-null   object \n",
      " 19  company_names_array       45463 non-null  object \n",
      " 20  countries_names_array     45463 non-null  object \n",
      " 21  languages_names_array     45463 non-null  object \n",
      " 22  genres_names_array        45463 non-null  object \n",
      "dtypes: bool(2), float64(3), int32(2), int64(2), object(14)\n",
      "memory usage: 7.0+ MB\n"
     ]
    }
   ],
   "source": [
    "df_final.info()"
   ]
  },
  {
   "cell_type": "markdown",
   "metadata": {},
   "source": [
    "Se reliza la conversión de ID y Budget para  utilizar posteriormente"
   ]
  },
  {
   "cell_type": "code",
   "execution_count": null,
   "metadata": {},
   "outputs": [],
   "source": [
    "df_final.rename(columns={'id':'movie_id'},inplace=True)"
   ]
  },
  {
   "cell_type": "code",
   "execution_count": null,
   "metadata": {},
   "outputs": [],
   "source": [
    "df_final['movie_id'] = df_final['movie_id'].fillna(0).astype(int)"
   ]
  },
  {
   "cell_type": "code",
   "execution_count": null,
   "metadata": {},
   "outputs": [
    {
     "name": "stdout",
     "output_type": "stream",
     "text": [
      "<class 'pandas.core.frame.DataFrame'>\n",
      "RangeIndex: 45463 entries, 0 to 45462\n",
      "Data columns (total 23 columns):\n",
      " #   Column                    Non-Null Count  Dtype  \n",
      "---  ------                    --------------  -----  \n",
      " 0   adult                     45463 non-null  bool   \n",
      " 1   budget                    45463 non-null  int32  \n",
      " 2   homepage                  7779 non-null   object \n",
      " 3   movie_id                  45463 non-null  int32  \n",
      " 4   imdb_id                   45446 non-null  object \n",
      " 5   original_language         45452 non-null  object \n",
      " 6   original_title            45463 non-null  object \n",
      " 7   overview                  44509 non-null  object \n",
      " 8   popularity                45463 non-null  float64\n",
      " 9   release_date              45379 non-null  object \n",
      " 10  revenue                   45463 non-null  int64  \n",
      " 11  runtime                   45206 non-null  float64\n",
      " 12  status                    45382 non-null  object \n",
      " 13  title                     45463 non-null  object \n",
      " 14  video                     45463 non-null  bool   \n",
      " 15  vote_average              45463 non-null  float64\n",
      " 16  vote_count                45463 non-null  int64  \n",
      " 17  collection_name           3168 non-null   object \n",
      " 18  collection_backdrop_path  3168 non-null   object \n",
      " 19  company_names_array       45463 non-null  object \n",
      " 20  countries_names_array     45463 non-null  object \n",
      " 21  languages_names_array     45463 non-null  object \n",
      " 22  genres_names_array        45463 non-null  object \n",
      "dtypes: bool(2), float64(3), int32(2), int64(2), object(14)\n",
      "memory usage: 7.0+ MB\n"
     ]
    }
   ],
   "source": [
    "df_final.info()"
   ]
  },
  {
   "cell_type": "markdown",
   "metadata": {},
   "source": [
    "Se trasnforma en CSV para poder desarrollar una API luego."
   ]
  },
  {
   "cell_type": "code",
   "execution_count": null,
   "metadata": {},
   "outputs": [],
   "source": [
    "df_final.to_csv(r'C:\\Users\\jessi\\Desktop\\Henry\\PROYECTO FINAL INDIVIDUAL\\Datasets\\movies_output.csv', index= False)"
   ]
  },
  {
   "cell_type": "markdown",
   "metadata": {},
   "source": [
    "Se realiza el ETL del archivo credits.csv"
   ]
  },
  {
   "cell_type": "code",
   "execution_count": 2,
   "metadata": {},
   "outputs": [
    {
     "ename": "FileNotFoundError",
     "evalue": "[Errno 2] No such file or directory: 'Datasets/cast.parquet'",
     "output_type": "error",
     "traceback": [
      "\u001b[1;31m---------------------------------------------------------------------------\u001b[0m",
      "\u001b[1;31mFileNotFoundError\u001b[0m                         Traceback (most recent call last)",
      "\u001b[1;32mc:\\Users\\jessi\\Desktop\\Proyecto Individual Sandagorda\\notebooks\\Sandagorda - Proyecto Individual 1.ipynb Cell 35\u001b[0m line \u001b[0;36m1\n\u001b[1;32m----> <a href='vscode-notebook-cell:/c%3A/Users/jessi/Desktop/Proyecto%20Individual%20Sandagorda/notebooks/Sandagorda%20-%20Proyecto%20Individual%201.ipynb#X46sZmlsZQ%3D%3D?line=0'>1</a>\u001b[0m df_credits \u001b[39m=\u001b[39m pd\u001b[39m.\u001b[39;49mread_parquet(\u001b[39m'\u001b[39;49m\u001b[39mDatasets/cast.parquet\u001b[39;49m\u001b[39m'\u001b[39;49m)\n\u001b[0;32m      <a href='vscode-notebook-cell:/c%3A/Users/jessi/Desktop/Proyecto%20Individual%20Sandagorda/notebooks/Sandagorda%20-%20Proyecto%20Individual%201.ipynb#X46sZmlsZQ%3D%3D?line=1'>2</a>\u001b[0m df_credits2 \u001b[39m=\u001b[39m pd\u001b[39m.\u001b[39mread_parquet(\u001b[39m'\u001b[39m\u001b[39mDatasets/crew.parquet\u001b[39m\u001b[39m'\u001b[39m)\n",
      "File \u001b[1;32mc:\\Users\\jessi\\AppData\\Local\\Programs\\Python\\Python312\\Lib\\site-packages\\pandas\\io\\parquet.py:670\u001b[0m, in \u001b[0;36mread_parquet\u001b[1;34m(path, engine, columns, storage_options, use_nullable_dtypes, dtype_backend, filesystem, filters, **kwargs)\u001b[0m\n\u001b[0;32m    667\u001b[0m     use_nullable_dtypes \u001b[39m=\u001b[39m \u001b[39mFalse\u001b[39;00m\n\u001b[0;32m    668\u001b[0m check_dtype_backend(dtype_backend)\n\u001b[1;32m--> 670\u001b[0m \u001b[39mreturn\u001b[39;00m impl\u001b[39m.\u001b[39;49mread(\n\u001b[0;32m    671\u001b[0m     path,\n\u001b[0;32m    672\u001b[0m     columns\u001b[39m=\u001b[39;49mcolumns,\n\u001b[0;32m    673\u001b[0m     filters\u001b[39m=\u001b[39;49mfilters,\n\u001b[0;32m    674\u001b[0m     storage_options\u001b[39m=\u001b[39;49mstorage_options,\n\u001b[0;32m    675\u001b[0m     use_nullable_dtypes\u001b[39m=\u001b[39;49muse_nullable_dtypes,\n\u001b[0;32m    676\u001b[0m     dtype_backend\u001b[39m=\u001b[39;49mdtype_backend,\n\u001b[0;32m    677\u001b[0m     filesystem\u001b[39m=\u001b[39;49mfilesystem,\n\u001b[0;32m    678\u001b[0m     \u001b[39m*\u001b[39;49m\u001b[39m*\u001b[39;49mkwargs,\n\u001b[0;32m    679\u001b[0m )\n",
      "File \u001b[1;32mc:\\Users\\jessi\\AppData\\Local\\Programs\\Python\\Python312\\Lib\\site-packages\\pandas\\io\\parquet.py:265\u001b[0m, in \u001b[0;36mPyArrowImpl.read\u001b[1;34m(self, path, columns, filters, use_nullable_dtypes, dtype_backend, storage_options, filesystem, **kwargs)\u001b[0m\n\u001b[0;32m    262\u001b[0m \u001b[39mif\u001b[39;00m manager \u001b[39m==\u001b[39m \u001b[39m\"\u001b[39m\u001b[39marray\u001b[39m\u001b[39m\"\u001b[39m:\n\u001b[0;32m    263\u001b[0m     to_pandas_kwargs[\u001b[39m\"\u001b[39m\u001b[39msplit_blocks\u001b[39m\u001b[39m\"\u001b[39m] \u001b[39m=\u001b[39m \u001b[39mTrue\u001b[39;00m  \u001b[39m# type: ignore[assignment]\u001b[39;00m\n\u001b[1;32m--> 265\u001b[0m path_or_handle, handles, filesystem \u001b[39m=\u001b[39m _get_path_or_handle(\n\u001b[0;32m    266\u001b[0m     path,\n\u001b[0;32m    267\u001b[0m     filesystem,\n\u001b[0;32m    268\u001b[0m     storage_options\u001b[39m=\u001b[39;49mstorage_options,\n\u001b[0;32m    269\u001b[0m     mode\u001b[39m=\u001b[39;49m\u001b[39m\"\u001b[39;49m\u001b[39mrb\u001b[39;49m\u001b[39m\"\u001b[39;49m,\n\u001b[0;32m    270\u001b[0m )\n\u001b[0;32m    271\u001b[0m \u001b[39mtry\u001b[39;00m:\n\u001b[0;32m    272\u001b[0m     pa_table \u001b[39m=\u001b[39m \u001b[39mself\u001b[39m\u001b[39m.\u001b[39mapi\u001b[39m.\u001b[39mparquet\u001b[39m.\u001b[39mread_table(\n\u001b[0;32m    273\u001b[0m         path_or_handle,\n\u001b[0;32m    274\u001b[0m         columns\u001b[39m=\u001b[39mcolumns,\n\u001b[1;32m   (...)\u001b[0m\n\u001b[0;32m    277\u001b[0m         \u001b[39m*\u001b[39m\u001b[39m*\u001b[39mkwargs,\n\u001b[0;32m    278\u001b[0m     )\n",
      "File \u001b[1;32mc:\\Users\\jessi\\AppData\\Local\\Programs\\Python\\Python312\\Lib\\site-packages\\pandas\\io\\parquet.py:139\u001b[0m, in \u001b[0;36m_get_path_or_handle\u001b[1;34m(path, fs, storage_options, mode, is_dir)\u001b[0m\n\u001b[0;32m    129\u001b[0m handles \u001b[39m=\u001b[39m \u001b[39mNone\u001b[39;00m\n\u001b[0;32m    130\u001b[0m \u001b[39mif\u001b[39;00m (\n\u001b[0;32m    131\u001b[0m     \u001b[39mnot\u001b[39;00m fs\n\u001b[0;32m    132\u001b[0m     \u001b[39mand\u001b[39;00m \u001b[39mnot\u001b[39;00m is_dir\n\u001b[1;32m   (...)\u001b[0m\n\u001b[0;32m    137\u001b[0m     \u001b[39m# fsspec resources can also point to directories\u001b[39;00m\n\u001b[0;32m    138\u001b[0m     \u001b[39m# this branch is used for example when reading from non-fsspec URLs\u001b[39;00m\n\u001b[1;32m--> 139\u001b[0m     handles \u001b[39m=\u001b[39m get_handle(\n\u001b[0;32m    140\u001b[0m         path_or_handle, mode, is_text\u001b[39m=\u001b[39;49m\u001b[39mFalse\u001b[39;49;00m, storage_options\u001b[39m=\u001b[39;49mstorage_options\n\u001b[0;32m    141\u001b[0m     )\n\u001b[0;32m    142\u001b[0m     fs \u001b[39m=\u001b[39m \u001b[39mNone\u001b[39;00m\n\u001b[0;32m    143\u001b[0m     path_or_handle \u001b[39m=\u001b[39m handles\u001b[39m.\u001b[39mhandle\n",
      "File \u001b[1;32mc:\\Users\\jessi\\AppData\\Local\\Programs\\Python\\Python312\\Lib\\site-packages\\pandas\\io\\common.py:872\u001b[0m, in \u001b[0;36mget_handle\u001b[1;34m(path_or_buf, mode, encoding, compression, memory_map, is_text, errors, storage_options)\u001b[0m\n\u001b[0;32m    863\u001b[0m         handle \u001b[39m=\u001b[39m \u001b[39mopen\u001b[39m(\n\u001b[0;32m    864\u001b[0m             handle,\n\u001b[0;32m    865\u001b[0m             ioargs\u001b[39m.\u001b[39mmode,\n\u001b[1;32m   (...)\u001b[0m\n\u001b[0;32m    868\u001b[0m             newline\u001b[39m=\u001b[39m\u001b[39m\"\u001b[39m\u001b[39m\"\u001b[39m,\n\u001b[0;32m    869\u001b[0m         )\n\u001b[0;32m    870\u001b[0m     \u001b[39melse\u001b[39;00m:\n\u001b[0;32m    871\u001b[0m         \u001b[39m# Binary mode\u001b[39;00m\n\u001b[1;32m--> 872\u001b[0m         handle \u001b[39m=\u001b[39m \u001b[39mopen\u001b[39;49m(handle, ioargs\u001b[39m.\u001b[39;49mmode)\n\u001b[0;32m    873\u001b[0m     handles\u001b[39m.\u001b[39mappend(handle)\n\u001b[0;32m    875\u001b[0m \u001b[39m# Convert BytesIO or file objects passed with an encoding\u001b[39;00m\n",
      "\u001b[1;31mFileNotFoundError\u001b[0m: [Errno 2] No such file or directory: 'Datasets/cast.parquet'"
     ]
    }
   ],
   "source": [
    "df_credits = pd.read_parquet('Datasets/cast.parquet')\n",
    "df_credits2 = pd.read_parquet('Datasets/crew.parquet')\n"
   ]
  },
  {
   "cell_type": "code",
   "execution_count": null,
   "metadata": {},
   "outputs": [],
   "source": []
  },
  {
   "cell_type": "markdown",
   "metadata": {},
   "source": [
    "Se separa en dos el dataframe"
   ]
  },
  {
   "cell_type": "code",
   "execution_count": null,
   "metadata": {},
   "outputs": [],
   "source": [
    "# Crear df_credit_cast con las columnas \"cast\" y \"id\"\n",
    "df_credit_cast = df_credits[['cast', 'id']].copy()\n",
    "\n",
    "# Crear df_credit_crew con las columnas \"crew\" y \"id\"\n",
    "df_credit_crew = df_credits[['crew','id']].copy()"
   ]
  },
  {
   "cell_type": "markdown",
   "metadata": {},
   "source": [
    "Se cambia el nombre a movie_id para facilitar la comprensión del código. Luego se parsean las columnas anidadas"
   ]
  },
  {
   "cell_type": "code",
   "execution_count": null,
   "metadata": {},
   "outputs": [],
   "source": [
    "df_credit_cast.rename(columns={'id':'movie_id'},inplace=True)"
   ]
  },
  {
   "cell_type": "code",
   "execution_count": null,
   "metadata": {},
   "outputs": [],
   "source": [
    "df_credit_crew.rename(columns={'id':'movie_id'},inplace=True)"
   ]
  },
  {
   "cell_type": "code",
   "execution_count": null,
   "metadata": {},
   "outputs": [],
   "source": [
    " \n",
    "def expand_columns(df, columns):\n",
    "    for column in columns:\n",
    "        df[column] = df[column].apply(lambda x: ast.literal_eval(x) if pd.notnull(x) else []) #Convierte el contenido de cada celda en la columna column de df de una cadena de texto que representa una lista de diccionarios a una lista de diccionarios Python, utilizando ast.literal_eval. Si el valor es nulo (pd.notnull(x)), se devuelve una lista vacía.\n",
    "        # Expande la columna column en filas, de modo que cada elemento de la lista de diccionarios se convierte en una fila separada en df\n",
    "        df = df.explode(column)\n",
    "        # Normaliza la columna column después de expandirla, lo que significa que convierte cada diccionario dentro de la lista en una serie de columnas.\n",
    "        col_df = pd.json_normalize(df[column])\n",
    "        # Renombra las columnas normalizadas agregando el nombre original de la columna como prefijo, para evitar conflictos si hay nombres de columnas duplicados en diferentes listas de diccionarios.\n",
    "        col_df = col_df.add_prefix(f'{column}_')\n",
    "        # Elimina la columna original column del DataFrame df y la reemplaza con las columnas normalizadas (col_df), asegurándose de que el índice del DataFrame se reinicie para evitar problemas con el índice de las filas.\n",
    "        df = df.drop(columns=[column]).reset_index(drop=True).join(col_df)\n",
    "    return df\n",
    "\n",
    "columns_to_expand = ['cast']\n",
    "\n",
    "# Expandir las columnas de listas de diccionarios\n",
    "df_credit_cast = expand_columns(df_credit_cast, columns_to_expand)"
   ]
  },
  {
   "cell_type": "code",
   "execution_count": null,
   "metadata": {},
   "outputs": [],
   "source": [
    "columns_to_expand = ['crew']\n",
    "df_credit_crew = expand_columns(df_credit_crew, columns_to_expand)\n"
   ]
  },
  {
   "cell_type": "markdown",
   "metadata": {},
   "source": [
    "Se eliminan columnas para poder crear un API luego."
   ]
  },
  {
   "cell_type": "code",
   "execution_count": null,
   "metadata": {},
   "outputs": [],
   "source": [
    "df_credit_cast = df_credit_cast.drop(columns=[\"cast_cast_id\",\"cast_credit_id\",\"cast_id\",\"cast_profile_path\"])\n",
    "#se eliminaron en total credit_id, order, profile_path y cast_credit_id\n"
   ]
  },
  {
   "cell_type": "code",
   "execution_count": null,
   "metadata": {},
   "outputs": [],
   "source": [
    "df_credit_crew = df_credit_crew.drop(columns=[\"crew_id\"])\n"
   ]
  },
  {
   "cell_type": "code",
   "execution_count": null,
   "metadata": {},
   "outputs": [
    {
     "name": "stdout",
     "output_type": "stream",
     "text": [
      "<class 'pandas.core.frame.DataFrame'>\n",
      "RangeIndex: 564892 entries, 0 to 564891\n",
      "Data columns (total 5 columns):\n",
      " #   Column          Non-Null Count   Dtype  \n",
      "---  ------          --------------   -----  \n",
      " 0   movie_id        564892 non-null  int64  \n",
      " 1   cast_character  562474 non-null  object \n",
      " 2   cast_gender     562474 non-null  float64\n",
      " 3   cast_name       562474 non-null  object \n",
      " 4   cast_order      562474 non-null  float64\n",
      "dtypes: float64(2), int64(1), object(2)\n",
      "memory usage: 21.5+ MB\n"
     ]
    }
   ],
   "source": [
    "df_credit_cast.info()"
   ]
  },
  {
   "cell_type": "code",
   "execution_count": null,
   "metadata": {},
   "outputs": [
    {
     "name": "stdout",
     "output_type": "stream",
     "text": [
      "<class 'pandas.core.frame.DataFrame'>\n",
      "RangeIndex: 465085 entries, 0 to 465084\n",
      "Data columns (total 7 columns):\n",
      " #   Column             Non-Null Count   Dtype  \n",
      "---  ------             --------------   -----  \n",
      " 0   movie_id           465085 non-null  int64  \n",
      " 1   crew_credit_id     464314 non-null  object \n",
      " 2   crew_department    464314 non-null  object \n",
      " 3   crew_gender        464314 non-null  float64\n",
      " 4   crew_job           464314 non-null  object \n",
      " 5   crew_name          464314 non-null  object \n",
      " 6   crew_profile_path  95098 non-null   object \n",
      "dtypes: float64(1), int64(1), object(5)\n",
      "memory usage: 24.8+ MB\n"
     ]
    }
   ],
   "source": [
    "df_credit_crew.info()"
   ]
  },
  {
   "cell_type": "code",
   "execution_count": null,
   "metadata": {},
   "outputs": [],
   "source": [
    "crew_cast.to_parquet(r'C:\\Users\\jessi\\Desktop\\Henry\\PROYECTO FINAL INDIVIDUAL\\Datasets\\cast_crew.parquet')"
   ]
  },
  {
   "cell_type": "code",
   "execution_count": null,
   "metadata": {},
   "outputs": [],
   "source": [
    "\n",
    "output_file_path = r'C:\\Users\\jessi\\Desktop\\Henry\\PROYECTO FINAL INDIVIDUAL\\Datasets\\cast.parquet'\n",
    "output_file_path1 = r'C:\\Users\\jessi\\Desktop\\Henry\\PROYECTO FINAL INDIVIDUAL\\Datasets\\crew.parquet'\n",
    "df_credit_cast.to_parquet(output_file_path)\n",
    "df_credit_crew.to_parquet(output_file_path1)"
   ]
  },
  {
   "cell_type": "markdown",
   "metadata": {},
   "source": [
    "Los valores nulos de los campos revenue, budget deben ser rellenados por el número 0. Dataset: Movies"
   ]
  },
  {
   "cell_type": "code",
   "execution_count": null,
   "metadata": {},
   "outputs": [
    {
     "data": {
      "text/plain": [
       "0        30000000\n",
       "1        65000000\n",
       "2               0\n",
       "3        16000000\n",
       "4               0\n",
       "           ...   \n",
       "45458           0\n",
       "45459           0\n",
       "45460           0\n",
       "45461           0\n",
       "45462           0\n",
       "Name: budget, Length: 45463, dtype: int32"
      ]
     },
     "execution_count": 36,
     "metadata": {},
     "output_type": "execute_result"
    }
   ],
   "source": [
    "df_final['revenue'].fillna(0)\n",
    "df_final['budget'].fillna(0)"
   ]
  },
  {
   "cell_type": "markdown",
   "metadata": {},
   "source": [
    "Los valores nulos del campo release date deben eliminarse.\n"
   ]
  },
  {
   "cell_type": "code",
   "execution_count": null,
   "metadata": {},
   "outputs": [
    {
     "data": {
      "text/plain": [
       "0        1995-10-30\n",
       "1        1995-12-15\n",
       "2        1995-12-22\n",
       "3        1995-12-22\n",
       "4        1995-02-10\n",
       "            ...    \n",
       "45457    1991-05-13\n",
       "45459    2011-11-17\n",
       "45460    2003-08-01\n",
       "45461    1917-10-21\n",
       "45462    2017-06-09\n",
       "Name: release_date, Length: 45379, dtype: object"
      ]
     },
     "execution_count": 37,
     "metadata": {},
     "output_type": "execute_result"
    }
   ],
   "source": [
    "df_final['release_date'].dropna()\n",
    "\n"
   ]
  },
  {
   "cell_type": "markdown",
   "metadata": {},
   "source": [
    "Convertir en tipo fecha los datos de la columna Date_Release con correspondiente manejo de errores"
   ]
  },
  {
   "cell_type": "code",
   "execution_count": null,
   "metadata": {},
   "outputs": [
    {
     "name": "stdout",
     "output_type": "stream",
     "text": [
      "<class 'pandas.core.frame.DataFrame'>\n",
      "RangeIndex: 45463 entries, 0 to 45462\n",
      "Data columns (total 23 columns):\n",
      " #   Column                    Non-Null Count  Dtype  \n",
      "---  ------                    --------------  -----  \n",
      " 0   adult                     45463 non-null  bool   \n",
      " 1   budget                    45463 non-null  int32  \n",
      " 2   homepage                  7779 non-null   object \n",
      " 3   movie_id                  45463 non-null  int32  \n",
      " 4   imdb_id                   45446 non-null  object \n",
      " 5   original_language         45452 non-null  object \n",
      " 6   original_title            45463 non-null  object \n",
      " 7   overview                  44509 non-null  object \n",
      " 8   popularity                45463 non-null  float64\n",
      " 9   release_date              45379 non-null  object \n",
      " 10  revenue                   45463 non-null  int64  \n",
      " 11  runtime                   45206 non-null  float64\n",
      " 12  status                    45382 non-null  object \n",
      " 13  title                     45463 non-null  object \n",
      " 14  video                     45463 non-null  bool   \n",
      " 15  vote_average              45463 non-null  float64\n",
      " 16  vote_count                45463 non-null  int64  \n",
      " 17  collection_name           3168 non-null   object \n",
      " 18  collection_backdrop_path  3168 non-null   object \n",
      " 19  company_names_array       45463 non-null  object \n",
      " 20  countries_names_array     45463 non-null  object \n",
      " 21  languages_names_array     45463 non-null  object \n",
      " 22  genres_names_array        45463 non-null  object \n",
      "dtypes: bool(2), float64(3), int32(2), int64(2), object(14)\n",
      "memory usage: 7.0+ MB\n"
     ]
    }
   ],
   "source": [
    "df_final.info()"
   ]
  },
  {
   "cell_type": "code",
   "execution_count": null,
   "metadata": {},
   "outputs": [
    {
     "data": {
      "text/plain": [
       "0        1995-10-30\n",
       "1        1995-12-15\n",
       "2        1995-12-22\n",
       "3        1995-12-22\n",
       "4        1995-02-10\n",
       "            ...    \n",
       "45458    1900-01-01\n",
       "45459    2011-11-17\n",
       "45460    2003-08-01\n",
       "45461    1917-10-21\n",
       "45462    2017-06-09\n",
       "Name: release_date, Length: 45463, dtype: object"
      ]
     },
     "execution_count": 39,
     "metadata": {},
     "output_type": "execute_result"
    }
   ],
   "source": [
    "df_final['release_date'].fillna('1900-01-01')\n"
   ]
  },
  {
   "cell_type": "code",
   "execution_count": null,
   "metadata": {},
   "outputs": [
    {
     "data": {
      "text/plain": [
       "0        1995-10-30\n",
       "1        1995-12-15\n",
       "2        1995-12-22\n",
       "3        1995-12-22\n",
       "4        1995-02-10\n",
       "            ...    \n",
       "45458           NaN\n",
       "45459    2011-11-17\n",
       "45460    2003-08-01\n",
       "45461    1917-10-21\n",
       "45462    2017-06-09\n",
       "Name: release_date, Length: 45463, dtype: object"
      ]
     },
     "execution_count": 40,
     "metadata": {},
     "output_type": "execute_result"
    }
   ],
   "source": [
    "df_final['release_date']"
   ]
  },
  {
   "cell_type": "code",
   "execution_count": null,
   "metadata": {},
   "outputs": [],
   "source": [
    "df_final['release_date'] = pd.to_datetime(df_final['release_date'], errors='coerce')"
   ]
  },
  {
   "cell_type": "markdown",
   "metadata": {},
   "source": [
    "Generar una nueva columna llamada \"release_year\" en donde figurará el año de estreno de la película."
   ]
  },
  {
   "cell_type": "code",
   "execution_count": null,
   "metadata": {},
   "outputs": [],
   "source": [
    "df_final['release_year']=df_final['release_date'].dt.year\n"
   ]
  },
  {
   "cell_type": "markdown",
   "metadata": {},
   "source": [
    "Crear la columna con el retorno de inversión, llamada return con los campos revenue y budget, dividiendo estas dos últimas revenue / budget, cuando no hay datos disponibles para calcularlo, deberá tomar el valor 0.\n",
    "\n"
   ]
  },
  {
   "cell_type": "code",
   "execution_count": null,
   "metadata": {},
   "outputs": [],
   "source": [
    "df_final['budget'] = pd.to_numeric(df_final['budget'], errors='coerce').astype('Int64')\n"
   ]
  },
  {
   "cell_type": "markdown",
   "metadata": {},
   "source": [
    "Cada columna tiene sus NaN reemplazados por ceros."
   ]
  },
  {
   "cell_type": "code",
   "execution_count": null,
   "metadata": {},
   "outputs": [],
   "source": [
    "df_final['revenue'].fillna(0, inplace=True)\n",
    "df_final['budget'].fillna(0, inplace=True)"
   ]
  },
  {
   "cell_type": "markdown",
   "metadata": {},
   "source": [
    "Se realiza la cuenta para generar el KPI y se reemplazan los \"inf\" y \"NaN\" con ceros."
   ]
  },
  {
   "cell_type": "code",
   "execution_count": null,
   "metadata": {},
   "outputs": [],
   "source": [
    "df_final['return'] = df_final['revenue'] / df_final['budget']\n",
    "df_final['return'] = df_final['return'].replace(np.inf, 0).astype(float)\n",
    "df_final['return'].fillna(0,inplace=True)\n",
    "\n"
   ]
  },
  {
   "cell_type": "markdown",
   "metadata": {},
   "source": [
    "*DESARROLLO API*"
   ]
  },
  {
   "cell_type": "markdown",
   "metadata": {},
   "source": [
    "Función 1: Se realiza una función en la que se ingresa un mes en idioma Español. Debe devolver la cantidad de películas que fueron estrenadas en el mes consultado en la totalidad del dataset."
   ]
  },
  {
   "cell_type": "code",
   "execution_count": null,
   "metadata": {},
   "outputs": [],
   "source": [
    "def estrenos_por_mes(mes):\n",
    "    meses = {\n",
    "        'enero': 1,\n",
    "        'febrero': 2,\n",
    "        'marzo': 3,\n",
    "        'abril': 4,\n",
    "        'mayo': 5,\n",
    "        'junio': 6,\n",
    "        'julio': 7,\n",
    "        'agosto': 8,\n",
    "        'septiembre': 9,\n",
    "        'octubre': 10,\n",
    "        'noviembre': 11,\n",
    "        'diciembre': 12\n",
    "    }\n",
    "\n",
    "    # Convertir el mes ingresado a minúsculas para asegurar coincidencia\n",
    "    mes = mes.lower()\n",
    "    \n",
    "    # Obtener el número del mes correspondiente\n",
    "    mes_num = meses.get(mes)\n",
    "    \n",
    "    if mes_num is None:\n",
    "        return ValueError(f\"Mes '{mes}' no reconocido. Por favor ingresa un mes válido.\")\n",
    "    \n",
    "    # Filtrar el DataFrame por el mes\n",
    "    filmaciones_mes = df_final[df_final['release_date'].dt.month == mes_num]\n",
    "    \n",
    "    # Devolver la cantidad de películas\n",
    "    return len(filmaciones_mes)\n"
   ]
  },
  {
   "cell_type": "code",
   "execution_count": null,
   "metadata": {},
   "outputs": [
    {
     "data": {
      "text/plain": [
       "2640"
      ]
     },
     "execution_count": 47,
     "metadata": {},
     "output_type": "execute_result"
    }
   ],
   "source": [
    "estrenos_por_mes(\"julio\")"
   ]
  },
  {
   "cell_type": "markdown",
   "metadata": {},
   "source": [
    "Función 2: Se ingresa un día en idioma Español. Debe devolver la cantidad de películas que fueron estrenadas en día consultado en la totalidad del dataset."
   ]
  },
  {
   "cell_type": "code",
   "execution_count": null,
   "metadata": {},
   "outputs": [],
   "source": [
    "def estrenos_por_dia(dia):\n",
    "    dias_semana = {\n",
    "        'lunes': 1,\n",
    "        'martes': 2,\n",
    "        'miercoles': 3,\n",
    "        'miércoles':4,\n",
    "        'jueves':5,\n",
    "        'viernes':6,\n",
    "        'sabado':7,\n",
    "        'domingo':8\n",
    "   \n",
    "    }\n",
    "\n",
    "   \n",
    "    # Obtener el número del mes correspondiente\n",
    "    dia_num = dias_semana.get(dia)\n",
    "    \n",
    "    if dia_num is None:\n",
    "        return ValueError(f\"Día '{dia}' no reconocido. Por favor ingresa un mes válido.\")\n",
    "    \n",
    "    # Filtrar el DataFrame por el mes\n",
    "    filmaciones_dia = df_final[df_final['release_date'].dt.day == dia_num]\n",
    "    \n",
    "    # Devolver la cantidad de películas\n",
    "    return len(filmaciones_dia)\n"
   ]
  },
  {
   "cell_type": "code",
   "execution_count": null,
   "metadata": {},
   "outputs": [
    {
     "data": {
      "text/plain": [
       "1289"
      ]
     },
     "execution_count": 49,
     "metadata": {},
     "output_type": "execute_result"
    }
   ],
   "source": [
    "estrenos_por_mes('jueves')"
   ]
  },
  {
   "cell_type": "markdown",
   "metadata": {},
   "source": [
    "Función 3:  Se ingresa el título de una filmación esperando como respuesta el título, el año de estreno y el score."
   ]
  },
  {
   "cell_type": "code",
   "execution_count": null,
   "metadata": {},
   "outputs": [
    {
     "name": "stdout",
     "output_type": "stream",
     "text": [
      "0       1995-10-30\n",
      "1       1995-12-15\n",
      "2       1995-12-22\n",
      "3       1995-12-22\n",
      "4       1995-02-10\n",
      "           ...    \n",
      "45458          NaT\n",
      "45459   2011-11-17\n",
      "45460   2003-08-01\n",
      "45461   1917-10-21\n",
      "45462   2017-06-09\n",
      "Name: release_date, Length: 45463, dtype: datetime64[ns]\n"
     ]
    }
   ],
   "source": [
    "\n",
    "data_final=df_final\n",
    "\n",
    "# Convertir la columna release_date a datetime\n",
    "df_final['release_date'] = pd.to_datetime(df_final['release_date'], errors='coerce')\n",
    "\n",
    "# Verificar la conversión\n",
    "print(df_final['release_date'])\n",
    "\n",
    "# Función para obtener información de la película\n",
    "def obtener_informacion_pelicula(titulo):\n",
    "    # Filtrar el DataFrame por el título\n",
    "    pelicula = df_final[df_final['title'].str.lower() == titulo.lower()]\n",
    "\n",
    "    # Verificar si la película existe\n",
    "    if pelicula.empty:\n",
    "        return f\"No se encontró ninguna película con el título '{titulo}'.\"\n",
    "    \n",
    "    # Obtener la información de la película\n",
    "    titulo_pelicula = pelicula.iloc[0]['title']\n",
    "    año_estreno = pelicula.iloc[0]['release_date'].year\n",
    "    popularity = pelicula.iloc[0]['popularity']\n",
    "    \n",
    "    return {\n",
    "        'Título': titulo_pelicula,\n",
    "        'Año de Estreno': año_estreno,\n",
    "        'Score': popularity\n",
    "    }"
   ]
  },
  {
   "cell_type": "markdown",
   "metadata": {},
   "source": [
    "Función 4: Se ingresa el título de una filmación esperando como respuesta el título, la cantidad de votos y el valor promedio de las votaciones. La misma variable deberá de contar con al menos 2000 valoraciones, caso contrario, debemos contar con un mensaje avisando que no cumple esta condición y que por ende, no se devuelve ningun valor."
   ]
  },
  {
   "cell_type": "code",
   "execution_count": null,
   "metadata": {},
   "outputs": [],
   "source": [
    "\n",
    "def obtener_informacion_pelicula_promedio_votaciones(titulo):\n",
    "    \n",
    "    # Filtrar el DataFrame por el título\n",
    "    pelicula = df_final[df_final['title'].str.lower() == titulo.lower()]\n",
    "\n",
    "    # Verificar si la película existe\n",
    "    if pelicula.empty:\n",
    "        return f\"No se encontró ninguna película con el título '{titulo}'.\"\n",
    "    \n",
    "    # Obtener la información de la película\n",
    "    titulo_pelicula = pelicula.iloc[0]['title']\n",
    "    vote_count = pelicula.iloc[0]['vote_count']\n",
    "    vote_average= pelicula.iloc[0]['vote_average']\n",
    "\n",
    "    if vote_count < 2000:\n",
    "        return f\"La película '{titulo_pelicula}' no cumple con el requisito de al menos 2000 valoraciones.\"\n",
    "\n",
    "    \n",
    "    return {\n",
    "        'Título': titulo_pelicula,\n",
    "        'Votos': vote_count,\n",
    "        'Votos Promedio': vote_average,\n",
    "    }\n",
    "\n",
    "    "
   ]
  },
  {
   "cell_type": "code",
   "execution_count": null,
   "metadata": {},
   "outputs": [
    {
     "data": {
      "text/plain": [
       "{'Título': 'Toy Story', 'Votos': 5415, 'Votos Promedio': 7.7}"
      ]
     },
     "execution_count": 52,
     "metadata": {},
     "output_type": "execute_result"
    }
   ],
   "source": [
    "obtener_informacion_pelicula_promedio_votaciones(\"Toy Story\")"
   ]
  },
  {
   "cell_type": "markdown",
   "metadata": {},
   "source": [
    "Función 5 : Se ingresa el nombre de un actor que se encuentre dentro de un dataset debiendo devolver el éxito del mismo medido a través del retorno. Además, la cantidad de películas que en las que ha participado y el promedio de retorno. La definición no deberá considerar directores."
   ]
  },
  {
   "cell_type": "code",
   "execution_count": null,
   "metadata": {},
   "outputs": [],
   "source": [
    "def get_actor(nombre_actor):\n",
    "    try:\n",
    "        # Filtrar el DataFrame df_credit_cast para obtener las películas en las que ha participado el actor\n",
    "        df_actor = df_credit_cast[df_credit_cast['cast_name'] == nombre_actor]\n",
    "        \n",
    "        # Verificar si df_actor está vacío\n",
    "        if df_actor.empty:\n",
    "            return f\"El actor {nombre_actor} no se encontró en el dataset.\"\n",
    "\n",
    "        # Asegurarnos de que la columna común se llama 'movie_id' en ambos DataFrames\n",
    "        if 'movie_id' not in df_actor.columns or 'movie_id' not in df_final.columns:\n",
    "            return \"Error: La columna común 'movie_id' no existe en uno de los DataFrames.\"\n",
    "        \n",
    "        # Unir con df_movies usando la columna 'movie_id'\n",
    "        df_actor_movies = pd.merge(df_actor, df_final, on='movie_id')\n",
    "        \n",
    "        # Eliminar duplicados basándonos en el título de la película\n",
    "        df_actor_movies = df_actor_movies.drop_duplicates(subset=['title'])\n",
    "        \n",
    "        # Calcular el éxito del actor medido a través del retorno\n",
    "        total_retorno = df_actor_movies['return'].sum()\n",
    "        cantidad_peliculas = len(df_actor_movies)\n",
    "        promedio_retorno = df_actor_movies['return'].mean()\n",
    "        \n",
    "        # Preparar el mensaje de resultado\n",
    "        mensaje = (f\"El actor {nombre_actor} ha participado de {cantidad_peliculas} filmaciones, \"\n",
    "                   f\"con un retorno total de {total_retorno} y un promedio de {promedio_retorno:.2f} por filmación.\")\n",
    "        \n",
    "        return mensaje\n",
    "    except KeyError as e:\n",
    "        return f\"Error: La columna {e} no existe en el DataFrame.\"\n",
    "    except Exception as e:\n",
    "        return f\"Error: {str(e)}\"\n"
   ]
  },
  {
   "cell_type": "code",
   "execution_count": null,
   "metadata": {},
   "outputs": [
    {
     "data": {
      "text/plain": [
       "'El actor Tom Hanks ha participado de 71 filmaciones, con un retorno total de 178.8494960552024 y un promedio de 2.52 por filmación.'"
      ]
     },
     "execution_count": 54,
     "metadata": {},
     "output_type": "execute_result"
    }
   ],
   "source": [
    "get_actor(\"Tom Hanks\")"
   ]
  },
  {
   "cell_type": "markdown",
   "metadata": {},
   "source": [
    "Función 6: Se ingresa el nombre de un director que se encuentre dentro de un dataset debiendo devolver el éxito del mismo medido a través del retorno. Además, deberá devolver el nombre de cada película con la fecha de lanzamiento, retorno individual, costo y ganancia de la misma.\n"
   ]
  },
  {
   "cell_type": "code",
   "execution_count": null,
   "metadata": {},
   "outputs": [],
   "source": [
    "def get_director(nombre_director):\n",
    "    # Filtrar el DataFrame df_credit_crew para obtener las películas dirigidas por el director\n",
    "    df_director = df_credit_crew[(df_credit_crew['crew_job'] == 'Director') & \n",
    "                                 (df_credit_crew['crew_name'] == nombre_director)]\n",
    "    \n",
    "    # Unir con df_movies usando la columna 'id'\n",
    "    df_director_movies = pd.merge(df_director, df_final, on='movie_id')\n",
    "    \n",
    "    # Calcular el retorno (revenue - budget) y agregarlo al DataFrame\n",
    "    df_director_movies['return'] = df_director_movies['revenue'] - df_director_movies['budget']\n",
    "    \n",
    "    # Eliminar duplicados basándonos en el título de la película\n",
    "    df_director_movies = df_director_movies.drop_duplicates(subset=['title'])\n",
    "    \n",
    "    # Preparar el resultado\n",
    "    resultado = []\n",
    "    for _, row in df_director_movies.iterrows():\n",
    "        titulo = row['title']\n",
    "        fecha_lanzamiento = row['release_date']\n",
    "        retorno_individual = row['return']\n",
    "        costo = row['budget']\n",
    "        ganancia = row['revenue']\n",
    "        \n",
    "        resultado.append({\n",
    "            'Título': titulo,\n",
    "            'Fecha de Lanzamiento': fecha_lanzamiento,\n",
    "            'Retorno Individual': retorno_individual,\n",
    "            'Costo': costo,\n",
    "            'Ganancia': ganancia\n",
    "        })\n",
    "    \n",
    "    return resultado\n"
   ]
  },
  {
   "cell_type": "code",
   "execution_count": null,
   "metadata": {},
   "outputs": [
    {
     "data": {
      "text/plain": [
       "[{'Título': 'Toy Story',\n",
       "  'Fecha de Lanzamiento': Timestamp('1995-10-30 00:00:00'),\n",
       "  'Retorno Individual': 343554033,\n",
       "  'Costo': 30000000,\n",
       "  'Ganancia': 373554033},\n",
       " {'Título': \"A Bug's Life\",\n",
       "  'Fecha de Lanzamiento': Timestamp('1998-11-25 00:00:00'),\n",
       "  'Retorno Individual': 243258859,\n",
       "  'Costo': 120000000,\n",
       "  'Ganancia': 363258859},\n",
       " {'Título': 'Toy Story 2',\n",
       "  'Fecha de Lanzamiento': Timestamp('1999-10-30 00:00:00'),\n",
       "  'Retorno Individual': 407366869,\n",
       "  'Costo': 90000000,\n",
       "  'Ganancia': 497366869},\n",
       " {'Título': 'Luxo Jr.',\n",
       "  'Fecha de Lanzamiento': Timestamp('1986-08-17 00:00:00'),\n",
       "  'Retorno Individual': 0,\n",
       "  'Costo': 0,\n",
       "  'Ganancia': 0},\n",
       " {'Título': 'Cars',\n",
       "  'Fecha de Lanzamiento': Timestamp('2006-06-08 00:00:00'),\n",
       "  'Retorno Individual': 341983149,\n",
       "  'Costo': 120000000,\n",
       "  'Ganancia': 461983149},\n",
       " {'Título': 'Cars 2',\n",
       "  'Fecha de Lanzamiento': Timestamp('2011-06-11 00:00:00'),\n",
       "  'Retorno Individual': 359852396,\n",
       "  'Costo': 200000000,\n",
       "  'Ganancia': 559852396},\n",
       " {'Título': 'Tin Toy',\n",
       "  'Fecha de Lanzamiento': Timestamp('1988-08-01 00:00:00'),\n",
       "  'Retorno Individual': 0,\n",
       "  'Costo': 0,\n",
       "  'Ganancia': 0},\n",
       " {'Título': \"Red's Dream\",\n",
       "  'Fecha de Lanzamiento': Timestamp('1987-08-17 00:00:00'),\n",
       "  'Retorno Individual': 0,\n",
       "  'Costo': 0,\n",
       "  'Ganancia': 0},\n",
       " {'Título': 'Knick Knack',\n",
       "  'Fecha de Lanzamiento': Timestamp('1989-01-01 00:00:00'),\n",
       "  'Retorno Individual': 0,\n",
       "  'Costo': 0,\n",
       "  'Ganancia': 0},\n",
       " {'Título': 'Mater and the Ghostlight',\n",
       "  'Fecha de Lanzamiento': Timestamp('2006-07-27 00:00:00'),\n",
       "  'Retorno Individual': 0,\n",
       "  'Costo': 0,\n",
       "  'Ganancia': 0}]"
      ]
     },
     "execution_count": 56,
     "metadata": {},
     "output_type": "execute_result"
    }
   ],
   "source": [
    "get_director(\"John Lasseter\")"
   ]
  }
 ],
 "metadata": {
  "kernelspec": {
   "display_name": "Python 3",
   "language": "python",
   "name": "python3"
  },
  "language_info": {
   "codemirror_mode": {
    "name": "ipython",
    "version": 3
   },
   "file_extension": ".py",
   "mimetype": "text/x-python",
   "name": "python",
   "nbconvert_exporter": "python",
   "pygments_lexer": "ipython3",
   "version": "3.10.0"
  }
 },
 "nbformat": 4,
 "nbformat_minor": 2
}
